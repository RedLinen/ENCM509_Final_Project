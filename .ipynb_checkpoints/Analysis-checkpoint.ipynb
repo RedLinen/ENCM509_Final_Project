{
 "cells": [
  {
   "cell_type": "markdown",
   "id": "28a4d0ec-4ab4-4504-aa62-a9e9d890997b",
   "metadata": {},
   "source": [
    "## Analysis of Results:"
   ]
  },
  {
   "cell_type": "code",
   "execution_count": 1,
   "id": "7f619a0c-5f0d-4dec-a617-0fb1a6de5ebf",
   "metadata": {},
   "outputs": [
    {
     "name": "stdout",
     "output_type": "stream",
     "text": [
      "2.7.13\n"
     ]
    }
   ],
   "source": [
    "import fastai\n",
    "print(fastai.__version__)"
   ]
  },
  {
   "cell_type": "code",
   "execution_count": 9,
   "id": "eb8acadf-1e9c-4a69-aeff-cf7925648684",
   "metadata": {},
   "outputs": [],
   "source": [
    "import os\n",
    "import pickle\n",
    "import pandas as pd\n",
    "\n",
    "# Function to list all files in a directory.\n",
    "def list_files(directory):\n",
    "    # List all files and directories in the given directory\n",
    "    all_items = os.listdir(directory)\n",
    "    \n",
    "    # Filter out directories, keep only files\n",
    "    files = [item for item in all_items if os.path.isfile(os.path.join(directory, item))]\n",
    "    \n",
    "    return files\n",
    "\n"
   ]
  },
  {
   "cell_type": "code",
   "execution_count": 10,
   "id": "ffd0e829-8121-4085-b53a-4fc011c38de0",
   "metadata": {},
   "outputs": [],
   "source": [
    "import seaborn as sns\n",
    "import matplotlib.pyplot as plt\n",
    "from sklearn.metrics import confusion_matrix\n",
    "from matplotlib.colors import LinearSegmentedColormap\n",
    "\n",
    "# Create function to graph data into a confusion matrix.\n",
    "\n",
    "def julias_confusion(y_true, y_pred, title = 'Depth Confusion Matrix'):\n",
    "    y_true_set = sorted(list(set(y_true)))\n",
    "    labels = []\n",
    "    for entry in y_true_set:\n",
    "        labels.append(entry)\n",
    "\n",
    "    cm = confusion_matrix(y_true, y_pred, labels=labels)\n",
    "    cm_df = pd.DataFrame(cm, index=labels, columns=labels)\n",
    "\n",
    "    colors = [\"purple\", \"royalblue\", \"black\"]\n",
    "    cmap = LinearSegmentedColormap.from_list(\"custom_cmap\", colors, N=100)\n",
    "\n",
    "    plt.figure(figsize=(8,6))\n",
    "    sns.heatmap(cm_df, annot=True, cmap=cmap, fmt=\"g\")\n",
    "    plt.title(title)\n",
    "    plt.ylabel('Actual')\n",
    "    plt.xlabel('Predicted')\n",
    "    plt.show()"
   ]
  },
  {
   "cell_type": "markdown",
   "id": "5041498f-6566-402a-99c7-ff9d4226cebe",
   "metadata": {},
   "source": [
    "#### Analyze Depth Data for Subject 1:"
   ]
  },
  {
   "cell_type": "code",
   "execution_count": 22,
   "id": "d04d889f-099b-41d6-95d4-8447ca0ecee1",
   "metadata": {},
   "outputs": [],
   "source": [
    "y_pred = []\n",
    "y_true = []\n",
    "entries = [\"Fist\", \"Pointing\", \"Okay\", \"Flat\", \"Thumb Up\"]\n",
    "\n",
    "for entry in entries:\n",
    "    directory_path = r'Apocrypha V2 Kate (joshua)\\Cam Data Folders/' + entry + '\\Depth'\n",
    "        \n",
    "    # Call the function and print the list of files\n",
    "    file_list = list_files(directory_path)\n",
    "    \n",
    "    for entry in file_list:\n",
    "        with open(directory_path+ \"/\" + entry, 'rb') as file:\n",
    "                # Load the contents from the file and return them\n",
    "                data = pickle.load(file)\n",
    "        #print(data)\n",
    "        y_pred.append(data['predicted'])\n",
    "        y_true.append(data['actual'])\n",
    "    \n",
    "    \n",
    "        "
   ]
  },
  {
   "cell_type": "code",
   "execution_count": null,
   "id": "463665e0-5bff-498a-998a-46378ffd09b7",
   "metadata": {},
   "outputs": [],
   "source": []
  },
  {
   "cell_type": "code",
   "execution_count": 12,
   "id": "a568f032-a297-4572-8a6e-8b14713aa6eb",
   "metadata": {},
   "outputs": [
    {
     "data": {
      "image/png": "[encoded data removed]",
      "text/plain": [
       "<Figure size 576x432 with 2 Axes>"
      ]
     },
     "metadata": {
      "needs_background": "light"
     },
     "output_type": "display_data"
    }
   ],
   "source": [
    "julias_confusion(y_true, y_pred)"
   ]
  },
  {
   "cell_type": "code",
   "execution_count": 14,
   "id": "1e488bb0-f2d0-46f1-a6f0-da634e30a648",
   "metadata": {},
   "outputs": [
    {
     "name": "stdout",
     "output_type": "stream",
     "text": [
      "80.0\n"
     ]
    }
   ],
   "source": [
    "# Find accuracy by comparing y_pred and y_true.\n",
    "\n",
    "counter = 0\n",
    "for entry in zip(y_pred, y_true):\n",
    "    if entry[0] == entry[1]:\n",
    "        counter += 1\n",
    "print(100*counter/len(y_pred))"
   ]
  },
  {
   "cell_type": "markdown",
   "id": "2489fa44-78eb-4416-80d3-28e0ca29cb0a",
   "metadata": {},
   "source": [
    "Depth accuracy is 80%."
   ]
  },
  {
   "cell_type": "markdown",
   "id": "e4e4bb01-1d09-46b0-9004-a5c6f69f59fb",
   "metadata": {},
   "source": [
    "#### Analyze RGB Data for Subject 1:"
   ]
  },
  {
   "cell_type": "code",
   "execution_count": 18,
   "id": "ca830690-13b3-429c-8d3f-0ffd674ed122",
   "metadata": {},
   "outputs": [],
   "source": [
    "y_pred = []\n",
    "y_true = []\n",
    "entries = [\"Fist\", \"Pointing\", \"Okay\", \"Flat\", \"Thumb Up\"]\n",
    "\n",
    "for entry in entries:\n",
    "    directory_path = r'Apocrypha V2 Kate (joshua)\\Cam Data Folders/' + entry + '\\RGB'\n",
    "        \n",
    "    # Call the function and print the list of files\n",
    "    file_list = list_files(directory_path)\n",
    "    \n",
    "    for entry in file_list:\n",
    "        with open(directory_path+ \"/\" + entry, 'rb') as file:\n",
    "                # Load the contents from the file and return them\n",
    "                data = pickle.load(file)\n",
    "        #print(data)\n",
    "        y_pred.append(data['predicted'])\n",
    "        y_true.append(data['actual'])\n",
    "    \n",
    "    \n",
    "        "
   ]
  },
  {
   "cell_type": "code",
   "execution_count": 19,
   "id": "f5526970-f55a-4373-a519-11387492fcb0",
   "metadata": {},
   "outputs": [],
   "source": [
    "# Modify colour scheme of graphing function.\n",
    "\n",
    "def julias_confusion_bright(y_true, y_pred, title = 'Brighter Confusion Matrix'):\n",
    "    y_true_set = sorted(list(set(y_true)))\n",
    "    labels = []\n",
    "    for entry in y_true_set:\n",
    "        labels.append(entry)\n",
    "\n",
    "    cm = confusion_matrix(y_true, y_pred, labels=labels)\n",
    "    cm_df = pd.DataFrame(cm, index=labels, columns=labels)\n",
    "\n",
    "    # Using a brighter color palette\n",
    "    colors = [\"yellow\", \"limegreen\", \"cyan\"]\n",
    "    cmap = LinearSegmentedColormap.from_list(\"custom_cmap\", colors, N=100)\n",
    "\n",
    "    plt.figure(figsize=(8,6))\n",
    "    sns.heatmap(cm_df, annot=True, cmap=cmap, fmt=\"g\")\n",
    "    plt.title(title)\n",
    "    plt.ylabel('Actual')\n",
    "    plt.xlabel('Predicted')\n",
    "    plt.show()"
   ]
  },
  {
   "cell_type": "code",
   "execution_count": 20,
   "id": "ee40af68-b395-4f93-8f94-7ce241c92fe4",
   "metadata": {},
   "outputs": [
    {
     "data": {
      "image/png": "[encoded data removed]",
      "text/plain": [
       "<Figure size 576x432 with 2 Axes>"
      ]
     },
     "metadata": {
      "needs_background": "light"
     },
     "output_type": "display_data"
    }
   ],
   "source": [
    "julias_confusion_bright(y_true, y_pred, title = 'RGB Confusion Matrix')"
   ]
  },
  {
   "cell_type": "markdown",
   "id": "798c39ad-0b94-47c8-a9df-7ebae56b9ed1",
   "metadata": {},
   "source": [
    "#### Find Accuracy."
   ]
  },
  {
   "cell_type": "code",
   "execution_count": 21,
   "id": "76638ada-96e2-45bd-8e48-c4b534b79e7a",
   "metadata": {},
   "outputs": [
    {
     "name": "stdout",
     "output_type": "stream",
     "text": [
      "90.0\n"
     ]
    }
   ],
   "source": [
    "counter = 0\n",
    "for entry in zip(y_pred, y_true):\n",
    "    if entry[0] == entry[1]:\n",
    "        counter += 1\n",
    "\n",
    "\n",
    "print(100*counter/len(y_pred))"
   ]
  },
  {
   "cell_type": "markdown",
   "id": "0750d9a1-e0c8-4e95-8fd2-fe738a450433",
   "metadata": {},
   "source": [
    "Accuracy is 90%."
   ]
  },
  {
   "cell_type": "markdown",
   "id": "9cf8f070-4732-41e9-86ce-adcced6b27a9",
   "metadata": {},
   "source": [
    "#### Analyze Depth Data for Subject 2:"
   ]
  },
  {
   "cell_type": "code",
   "execution_count": 25,
   "id": "1dfdfd00-02db-44c8-954b-6bc481dcccf6",
   "metadata": {},
   "outputs": [],
   "source": [
    "y_pred = []\n",
    "y_true = []\n",
    "entries = [\"Fist\", \"Pointing\", \"Okay\", \"Flat\", \"Thumb Up\"]\n",
    "\n",
    "for entry in entries:\n",
    "    directory_path = r'Apocrypha V2 Kate (Sarim Data)\\Cam Data Folders/' + entry + '\\Depth'\n",
    "        \n",
    "    # Call the function and print the list of files\n",
    "    file_list = list_files(directory_path)\n",
    "    \n",
    "    for entry in file_list:\n",
    "        with open(directory_path+ \"/\" + entry, 'rb') as file:\n",
    "                # Load the contents from the file and return them\n",
    "                data = pickle.load(file)\n",
    "        #print(data)\n",
    "        y_pred.append(data['predicted'])\n",
    "        y_true.append(data['actual'])\n",
    "    \n",
    "    \n",
    "        "
   ]
  },
  {
   "cell_type": "code",
   "execution_count": 26,
   "id": "c7e5aff4-94f4-4219-9464-2f9c75fe6573",
   "metadata": {},
   "outputs": [
    {
     "data": {
      "image/png": "[encoded data removed]",
      "text/plain": [
       "<Figure size 576x432 with 2 Axes>"
      ]
     },
     "metadata": {
      "needs_background": "light"
     },
     "output_type": "display_data"
    }
   ],
   "source": [
    "julias_confusion(y_true, y_pred)"
   ]
  },
  {
   "cell_type": "code",
   "execution_count": 27,
   "id": "4ed71ee4-89fb-4569-8ccd-bb1b7e24c5e0",
   "metadata": {},
   "outputs": [],
   "source": [
    "counter = 0\n",
    "for entry in zip(y_pred, y_true):\n",
    "    if entry[0] == entry[1]:\n",
    "        counter += 1"
   ]
  },
  {
   "cell_type": "code",
   "execution_count": 28,
   "id": "79aadf89-4fe9-438a-8881-489a782e1639",
   "metadata": {},
   "outputs": [
    {
     "name": "stdout",
     "output_type": "stream",
     "text": [
      "78.0\n"
     ]
    }
   ],
   "source": [
    "print(100*counter/len(y_pred))"
   ]
  },
  {
   "cell_type": "markdown",
   "id": "3ea34901-ebf1-4f8b-b6bc-69ccdcbb2065",
   "metadata": {},
   "source": [
    "Depth accuracy for subject 2 is 78%."
   ]
  },
  {
   "cell_type": "markdown",
   "id": "954f57c9-f0f1-48e4-889a-d16d1c909080",
   "metadata": {},
   "source": [
    "#### Analyze RGB Data for Subject 2:"
   ]
  },
  {
   "cell_type": "code",
   "execution_count": 30,
   "id": "67b2f315-82db-4183-b4aa-6c899fec3ad8",
   "metadata": {},
   "outputs": [],
   "source": [
    "y_pred = []\n",
    "y_true = []\n",
    "entries = [\"Fist\", \"Pointing\", \"Okay\", \"Flat\", \"Thumb Up\"]\n",
    "\n",
    "for entry in entries:\n",
    "    directory_path = r'C:\\Users\\yewan\\Documents\\GitHub\\That_Old_Term_Project_509\\Apocrypha V2 Kate (Sarim Data)\\Cam Data Folders/' + entry + '\\RGB'\n",
    "        \n",
    "    # Call the function and print the list of files\n",
    "    file_list = list_files(directory_path)\n",
    "    \n",
    "    for entry in file_list:\n",
    "        with open(directory_path+ \"/\" + entry, 'rb') as file:\n",
    "                # Load the contents from the file and return them\n",
    "                data = pickle.load(file)\n",
    "        #print(data)\n",
    "        y_pred.append(data['predicted'])\n",
    "        y_true.append(data['actual'])\n",
    "    \n",
    "    "
   ]
  },
  {
   "cell_type": "code",
   "execution_count": 31,
   "id": "303470fc-2b0a-4f3a-ab9e-79f3d16e34a5",
   "metadata": {},
   "outputs": [
    {
     "data": {
      "image/png": "[encoded data removed]",
      "text/plain": [
       "<Figure size 576x432 with 2 Axes>"
      ]
     },
     "metadata": {
      "needs_background": "light"
     },
     "output_type": "display_data"
    }
   ],
   "source": [
    "julias_confusion_bright(y_true, y_pred, title = 'RGB Confusion Matrix')"
   ]
  },
  {
   "cell_type": "code",
   "execution_count": 32,
   "id": "7efd5b01-52a5-4497-b8ed-583c5d49edbc",
   "metadata": {},
   "outputs": [
    {
     "name": "stdout",
     "output_type": "stream",
     "text": [
      "48.0\n"
     ]
    }
   ],
   "source": [
    "counter = 0\n",
    "for entry in zip(y_pred, y_true):\n",
    "    if entry[0] == entry[1]:\n",
    "        counter += 1\n",
    "\n",
    "\n",
    "print(100*counter/len(y_pred))"
   ]
  },
  {
   "cell_type": "markdown",
   "id": "a045d7d9-91dd-4e4d-83fd-8340555f9a12",
   "metadata": {},
   "source": [
    "RGB accuracy for subject 2 is 78%."
   ]
  },
  {
   "cell_type": "code",
   "execution_count": null,
   "id": "39082c57-5982-4e9b-a7d0-145d9f57648a",
   "metadata": {},
   "outputs": [],
   "source": []
  }
 ],
 "metadata": {
  "kernelspec": {
   "display_name": "Python 3 (ipykernel)",
   "language": "python",
   "name": "python3"
  },
  "language_info": {
   "codemirror_mode": {
    "name": "ipython",
    "version": 3
   },
   "file_extension": ".py",
   "mimetype": "text/x-python",
   "name": "python",
   "nbconvert_exporter": "python",
   "pygments_lexer": "ipython3",
   "version": "3.9.7"
  }
 },
 "nbformat": 4,
 "nbformat_minor": 5
}
